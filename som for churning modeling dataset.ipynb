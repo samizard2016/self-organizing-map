{
 "cells": [
  {
   "cell_type": "code",
   "execution_count": 27,
   "id": "c51da64e-fc8e-4988-a0bd-11894fb24ad8",
   "metadata": {},
   "outputs": [],
   "source": [
    "import pandas as pd\n",
    "import numpy as np\n",
    "from minisom import MiniSom\n",
    "from sklearn.preprocessing import MinMaxScaler\n",
    "import matplotlib.pyplot as plt\n",
    "import matplotlib.pylab as plb"
   ]
  },
  {
   "cell_type": "code",
   "execution_count": 4,
   "id": "fec24b4f-757c-4cf7-9c0f-937f829e9834",
   "metadata": {},
   "outputs": [],
   "source": [
    "df = pd.read_csv(\"churn_modelling.csv\")"
   ]
  },
  {
   "cell_type": "code",
   "execution_count": 5,
   "id": "fd76d28f-d4ec-4767-b122-eacc7680c6b0",
   "metadata": {},
   "outputs": [
    {
     "data": {
      "text/plain": [
       "(10000, 14)"
      ]
     },
     "execution_count": 5,
     "metadata": {},
     "output_type": "execute_result"
    }
   ],
   "source": [
    "df.shape"
   ]
  },
  {
   "cell_type": "code",
   "execution_count": 6,
   "id": "8ca0cd52-1ddb-429a-bfc1-8cde247cb750",
   "metadata": {},
   "outputs": [
    {
     "data": {
      "text/html": [
       "<div>\n",
       "<style scoped>\n",
       "    .dataframe tbody tr th:only-of-type {\n",
       "        vertical-align: middle;\n",
       "    }\n",
       "\n",
       "    .dataframe tbody tr th {\n",
       "        vertical-align: top;\n",
       "    }\n",
       "\n",
       "    .dataframe thead th {\n",
       "        text-align: right;\n",
       "    }\n",
       "</style>\n",
       "<table border=\"1\" class=\"dataframe\">\n",
       "  <thead>\n",
       "    <tr style=\"text-align: right;\">\n",
       "      <th></th>\n",
       "      <th>RowNumber</th>\n",
       "      <th>CustomerId</th>\n",
       "      <th>Surname</th>\n",
       "      <th>CreditScore</th>\n",
       "      <th>Geography</th>\n",
       "      <th>Gender</th>\n",
       "      <th>Age</th>\n",
       "      <th>Tenure</th>\n",
       "      <th>Balance</th>\n",
       "      <th>NumOfProducts</th>\n",
       "      <th>HasCrCard</th>\n",
       "      <th>IsActiveMember</th>\n",
       "      <th>EstimatedSalary</th>\n",
       "      <th>Exited</th>\n",
       "    </tr>\n",
       "  </thead>\n",
       "  <tbody>\n",
       "    <tr>\n",
       "      <th>0</th>\n",
       "      <td>1</td>\n",
       "      <td>15634602</td>\n",
       "      <td>Hargrave</td>\n",
       "      <td>619</td>\n",
       "      <td>France</td>\n",
       "      <td>Female</td>\n",
       "      <td>42</td>\n",
       "      <td>2</td>\n",
       "      <td>0.00</td>\n",
       "      <td>1</td>\n",
       "      <td>1</td>\n",
       "      <td>1</td>\n",
       "      <td>101348.88</td>\n",
       "      <td>1</td>\n",
       "    </tr>\n",
       "    <tr>\n",
       "      <th>1</th>\n",
       "      <td>2</td>\n",
       "      <td>15647311</td>\n",
       "      <td>Hill</td>\n",
       "      <td>608</td>\n",
       "      <td>Spain</td>\n",
       "      <td>Female</td>\n",
       "      <td>41</td>\n",
       "      <td>1</td>\n",
       "      <td>83807.86</td>\n",
       "      <td>1</td>\n",
       "      <td>0</td>\n",
       "      <td>1</td>\n",
       "      <td>112542.58</td>\n",
       "      <td>0</td>\n",
       "    </tr>\n",
       "    <tr>\n",
       "      <th>2</th>\n",
       "      <td>3</td>\n",
       "      <td>15619304</td>\n",
       "      <td>Onio</td>\n",
       "      <td>502</td>\n",
       "      <td>France</td>\n",
       "      <td>Female</td>\n",
       "      <td>42</td>\n",
       "      <td>8</td>\n",
       "      <td>159660.80</td>\n",
       "      <td>3</td>\n",
       "      <td>1</td>\n",
       "      <td>0</td>\n",
       "      <td>113931.57</td>\n",
       "      <td>1</td>\n",
       "    </tr>\n",
       "    <tr>\n",
       "      <th>3</th>\n",
       "      <td>4</td>\n",
       "      <td>15701354</td>\n",
       "      <td>Boni</td>\n",
       "      <td>699</td>\n",
       "      <td>France</td>\n",
       "      <td>Female</td>\n",
       "      <td>39</td>\n",
       "      <td>1</td>\n",
       "      <td>0.00</td>\n",
       "      <td>2</td>\n",
       "      <td>0</td>\n",
       "      <td>0</td>\n",
       "      <td>93826.63</td>\n",
       "      <td>0</td>\n",
       "    </tr>\n",
       "    <tr>\n",
       "      <th>4</th>\n",
       "      <td>5</td>\n",
       "      <td>15737888</td>\n",
       "      <td>Mitchell</td>\n",
       "      <td>850</td>\n",
       "      <td>Spain</td>\n",
       "      <td>Female</td>\n",
       "      <td>43</td>\n",
       "      <td>2</td>\n",
       "      <td>125510.82</td>\n",
       "      <td>1</td>\n",
       "      <td>1</td>\n",
       "      <td>1</td>\n",
       "      <td>79084.10</td>\n",
       "      <td>0</td>\n",
       "    </tr>\n",
       "  </tbody>\n",
       "</table>\n",
       "</div>"
      ],
      "text/plain": [
       "   RowNumber  CustomerId   Surname  CreditScore Geography  Gender  Age  \\\n",
       "0          1    15634602  Hargrave          619    France  Female   42   \n",
       "1          2    15647311      Hill          608     Spain  Female   41   \n",
       "2          3    15619304      Onio          502    France  Female   42   \n",
       "3          4    15701354      Boni          699    France  Female   39   \n",
       "4          5    15737888  Mitchell          850     Spain  Female   43   \n",
       "\n",
       "   Tenure    Balance  NumOfProducts  HasCrCard  IsActiveMember  \\\n",
       "0       2       0.00              1          1               1   \n",
       "1       1   83807.86              1          0               1   \n",
       "2       8  159660.80              3          1               0   \n",
       "3       1       0.00              2          0               0   \n",
       "4       2  125510.82              1          1               1   \n",
       "\n",
       "   EstimatedSalary  Exited  \n",
       "0        101348.88       1  \n",
       "1        112542.58       0  \n",
       "2        113931.57       1  \n",
       "3         93826.63       0  \n",
       "4         79084.10       0  "
      ]
     },
     "execution_count": 6,
     "metadata": {},
     "output_type": "execute_result"
    }
   ],
   "source": [
    "df.head()"
   ]
  },
  {
   "cell_type": "code",
   "execution_count": 7,
   "id": "06ac7647-829b-4d14-aee3-1f3c0a056159",
   "metadata": {},
   "outputs": [],
   "source": [
    "X = df.iloc[:,3:]"
   ]
  },
  {
   "cell_type": "code",
   "execution_count": 8,
   "id": "0ddc74bd-97a3-41c5-b2ed-00cb25519265",
   "metadata": {},
   "outputs": [],
   "source": [
    "id = df.iloc[:,1]"
   ]
  },
  {
   "cell_type": "code",
   "execution_count": 9,
   "id": "ad0742c5-80b9-4e42-b256-96c9c73b761a",
   "metadata": {},
   "outputs": [],
   "source": [
    "scaler = MinMaxScaler()"
   ]
  },
  {
   "cell_type": "code",
   "execution_count": 10,
   "id": "9223097d-dcb4-4dce-b024-d4dd751582aa",
   "metadata": {},
   "outputs": [],
   "source": [
    "X = pd.get_dummies(X,dtype=float)"
   ]
  },
  {
   "cell_type": "code",
   "execution_count": 11,
   "id": "7866b40a-33ea-463b-ac24-6c8b3025b456",
   "metadata": {},
   "outputs": [
    {
     "data": {
      "text/plain": [
       "(10000, 14)"
      ]
     },
     "execution_count": 11,
     "metadata": {},
     "output_type": "execute_result"
    }
   ],
   "source": [
    "X.shape"
   ]
  },
  {
   "cell_type": "code",
   "execution_count": 12,
   "id": "dfbf4bcd-8398-4cf0-81cf-4c171b4fa06b",
   "metadata": {},
   "outputs": [],
   "source": [
    "X = scaler.fit_transform(X)"
   ]
  },
  {
   "cell_type": "code",
   "execution_count": 13,
   "id": "ddefc054-6686-4981-9e13-8e76bfabffec",
   "metadata": {},
   "outputs": [],
   "source": [
    "som = MiniSom(10,10,X.shape[1],sigma=1,learning_rate=0.5)"
   ]
  },
  {
   "cell_type": "code",
   "execution_count": 14,
   "id": "d6f2d849-f46c-4f80-8c3f-5dc6aa59e950",
   "metadata": {},
   "outputs": [],
   "source": [
    "som.random_weights_init(X)"
   ]
  },
  {
   "cell_type": "code",
   "execution_count": 15,
   "id": "55d068b4-3399-4bd9-8292-369669a67467",
   "metadata": {},
   "outputs": [],
   "source": [
    "som.train_random(X,num_iteration=100)"
   ]
  },
  {
   "cell_type": "code",
   "execution_count": 25,
   "id": "6abf3069-1c18-4ddb-90e0-63d42c5d1add",
   "metadata": {},
   "outputs": [],
   "source": [
    "def visualize_distance_map(som):\n",
    "    \"\"\"\n",
    "    Visualize the distance map (U-Matrix) of a trained MiniSom SOM.\n",
    "\n",
    "    Parameters:\n",
    "    som (MiniSom): A trained MiniSom instance.\n",
    "    \"\"\"\n",
    "    # Get the weights from the SOM\n",
    "    weights = som.get_weights()\n",
    "\n",
    "    # Calculate the U-Matrix (distance map)\n",
    "    umatrix = np.zeros((som._weights.shape[0], som._weights.shape[1]))\n",
    "\n",
    "    for i in range(weights.shape[0]):\n",
    "        for j in range(weights.shape[1]):\n",
    "            neighbors = []\n",
    "            if i > 0:\n",
    "                neighbors.append(weights[i-1, j])  # Top neighbor\n",
    "            if i < weights.shape[0] - 1:\n",
    "                neighbors.append(weights[i+1, j])  # Bottom neighbor\n",
    "            if j > 0:\n",
    "                neighbors.append(weights[i, j-1])  # Left neighbor\n",
    "            if j < weights.shape[1] - 1:\n",
    "                neighbors.append(weights[i, j+1])  # Right neighbor\n",
    "\n",
    "            # Calculate the average distance to neighbors\n",
    "            if neighbors:\n",
    "                umatrix[i, j] = np.linalg.norm(weights[i, j] - np.mean(neighbors, axis=0))\n",
    "\n",
    "    # Plot the U-Matrix\n",
    "    plt.figure(figsize=(8, 8))\n",
    "    plt.pcolor(umatrix.T, cmap='bone_r')  # Transpose for correct orientation\n",
    "    plt.colorbar()\n",
    "    plt.title('Distance Map (U-Matrix)')\n",
    "    plt.show()"
   ]
  },
  {
   "cell_type": "code",
   "execution_count": 26,
   "id": "60909a97-a287-41a5-912f-82a2c77ebdd7",
   "metadata": {},
   "outputs": [
    {
     "data": {
      "image/png": "[encoded data removed]",
      "text/plain": [
       "<Figure size 800x800 with 2 Axes>"
      ]
     },
     "metadata": {},
     "output_type": "display_data"
    }
   ],
   "source": [
    "visualize_distance_map(som)"
   ]
  },
  {
   "cell_type": "code",
   "execution_count": 28,
   "id": "17ee4c37-cb1a-4448-b020-236d7dc67f75",
   "metadata": {},
   "outputs": [
    {
     "data": {
      "text/plain": [
       "<matplotlib.colorbar.Colorbar at 0x29af1445210>"
      ]
     },
     "execution_count": 28,
     "metadata": {},
     "output_type": "execute_result"
    },
    {
     "data": {
      "image/png": "[encoded data removed]",
      "text/plain": [
       "<Figure size 640x480 with 2 Axes>"
      ]
     },
     "metadata": {},
     "output_type": "display_data"
    }
   ],
   "source": [
    "plb.bone()\n",
    "plb.pcolor(som.distance_map().T)\n",
    "plb.colorbar()"
   ]
  },
  {
   "cell_type": "code",
   "execution_count": 33,
   "id": "8b6a77f4-7fe6-42fd-8b2c-0166c5e41645",
   "metadata": {},
   "outputs": [],
   "source": [
    "plb.savefig(\"churn modeling som distance map.png\",bbox_inches='tight', pad_inches=0.0)\n",
    "# Close the plot\n",
    "plb.close()"
   ]
  },
  {
   "cell_type": "code",
   "execution_count": 34,
   "id": "6d4d953a-2948-4222-8278-e91e9df8f57e",
   "metadata": {},
   "outputs": [],
   "source": [
    "def get_outliers(som, data, threshold=2.0):\n",
    "    \"\"\"\n",
    "    Identify outliers in the data based on their distance from the BMU in the trained SOM.\n",
    "\n",
    "    Parameters:\n",
    "    som (MiniSom): A trained MiniSom instance.\n",
    "    data (np.ndarray): The input data (n_samples, n_features).\n",
    "    threshold (float): The threshold for identifying outliers. Data points with a quantization error\n",
    "                       greater than this threshold are considered outliers. Default is 2.0.\n",
    "\n",
    "    Returns:\n",
    "    outliers (np.ndarray): The indices of the outlier data points.\n",
    "    quantization_errors (np.ndarray): The quantization error for each data point.\n",
    "    \"\"\"\n",
    "    quantization_errors = []\n",
    "    outliers = []\n",
    "\n",
    "    for i, x in enumerate(data):\n",
    "        # Find the BMU for the data point\n",
    "        bmu = som.winner(x)\n",
    "        bmu_weights = som.get_weights()[bmu]\n",
    "\n",
    "        # Calculate the quantization error (distance between the data point and its BMU)\n",
    "        error = np.linalg.norm(x - bmu_weights)\n",
    "        quantization_errors.append(error)\n",
    "\n",
    "        # Check if the error exceeds the threshold\n",
    "        if error > threshold:\n",
    "            outliers.append(i)\n",
    "\n",
    "    return np.array(outliers), np.array(quantization_errors)"
   ]
  },
  {
   "cell_type": "code",
   "execution_count": 50,
   "id": "db8433b0-3310-4f08-8c45-d8c174ce3ebf",
   "metadata": {},
   "outputs": [
    {
     "name": "stdout",
     "output_type": "stream",
     "text": [
      "Outlier indices: [2462 7698]\n"
     ]
    }
   ],
   "source": [
    "outliers, quantization_errors = get_outliers(som, X, threshold=1.4)\n",
    "print(\"Outlier indices:\", outliers)"
   ]
  },
  {
   "cell_type": "code",
   "execution_count": 52,
   "id": "136fa5bf-4c40-4509-80fb-919ed2d25d9a",
   "metadata": {},
   "outputs": [
    {
     "data": {
      "text/plain": [
       "array([2462, 7698])"
      ]
     },
     "execution_count": 52,
     "metadata": {},
     "output_type": "execute_result"
    }
   ],
   "source": [
    "outliers"
   ]
  },
  {
   "cell_type": "code",
   "execution_count": 46,
   "id": "14afd48b-b9ff-43fd-97c7-4dc3f331d9dc",
   "metadata": {},
   "outputs": [],
   "source": [
    "def get_outlier_list(som, data):\n",
    "    \"\"\"\n",
    "    Identify outliers in the data based on their distance from the BMU in the trained SOM.\n",
    "\n",
    "    Parameters:\n",
    "    som (MiniSom): A trained MiniSom instance.\n",
    "    data (np.ndarray): The input data (n_samples, n_features).\n",
    "    threshold (float): The threshold for identifying outliers. Data points with a quantization error\n",
    "                       greater than this threshold are considered outliers. Default is 2.0.\n",
    "\n",
    "    Returns:\n",
    "    outliers (np.ndarray): The indices of the outlier data points.\n",
    "    quantization_errors (np.ndarray): The quantization error for each data point.\n",
    "    \"\"\"\n",
    "    quantization_errors = []\n",
    "    outliers = []\n",
    "\n",
    "    for i, x in enumerate(data):\n",
    "        # Find the BMU for the data point\n",
    "        bmu = som.winner(x)\n",
    "        bmu_weights = som.get_weights()[bmu]\n",
    "        # Calculate the quantization error (distance between the data point and its BMU)\n",
    "        error = np.linalg.norm(x - bmu_weights)\n",
    "        quantization_errors.append(error)\n",
    "\n",
    "    mean_error = np.mean(quantization_errors)\n",
    "    std_error = np.std(quantization_errors)\n",
    "    for i, error in enumerate(quantization_errors):\n",
    "        if error > mean_error + 3 * std_error:\n",
    "            outliers.append(error)        \n",
    "\n",
    "    return np.array(outliers), np.array(quantization_errors)"
   ]
  },
  {
   "cell_type": "code",
   "execution_count": 47,
   "id": "9f38ed2b-1c05-4409-b378-9fd65c86f00e",
   "metadata": {},
   "outputs": [],
   "source": [
    "outliers,_ = get_outlier_list(som,X)"
   ]
  },
  {
   "cell_type": "code",
   "execution_count": 48,
   "id": "f19f873f-0199-47b5-8028-a1e24e21cb85",
   "metadata": {},
   "outputs": [
    {
     "data": {
      "text/plain": [
       "45"
      ]
     },
     "execution_count": 48,
     "metadata": {},
     "output_type": "execute_result"
    }
   ],
   "source": [
    "len(outliers)"
   ]
  },
  {
   "cell_type": "code",
   "execution_count": 49,
   "id": "a3b53733-2fe8-4766-9543-afa627f1ed0f",
   "metadata": {},
   "outputs": [
    {
     "data": {
      "text/plain": [
       "array([1.39138383, 1.30699075, 1.35361081, 1.3285779 , 1.29265364,\n",
       "       1.39075782, 1.34260155, 1.31745855, 1.32977354, 1.38771351,\n",
       "       1.40256312, 1.34656768, 1.38331451, 1.31969128, 1.29434662,\n",
       "       1.3123419 , 1.31129534, 1.37412508, 1.33088173, 1.29126011,\n",
       "       1.31854663, 1.3064269 , 1.28567623, 1.35561861, 1.33609759,\n",
       "       1.33084522, 1.29679618, 1.36092306, 1.33874453, 1.29830969,\n",
       "       1.34687774, 1.30633884, 1.3352838 , 1.33030768, 1.34257341,\n",
       "       1.38446413, 1.40318195, 1.3411772 , 1.39248983, 1.3699478 ,\n",
       "       1.30855586, 1.35321092, 1.29742041, 1.29501601, 1.3475712 ])"
      ]
     },
     "execution_count": 49,
     "metadata": {},
     "output_type": "execute_result"
    }
   ],
   "source": [
    "outliers"
   ]
  },
  {
   "cell_type": "code",
   "execution_count": null,
   "id": "ad0f505c-4126-4030-80de-cff80ba5c4de",
   "metadata": {},
   "outputs": [],
   "source": []
  }
 ],
 "metadata": {
  "kernelspec": {
   "display_name": "Python 3 (ipykernel)",
   "language": "python",
   "name": "python3"
  },
  "language_info": {
   "codemirror_mode": {
    "name": "ipython",
    "version": 3
   },
   "file_extension": ".py",
   "mimetype": "text/x-python",
   "name": "python",
   "nbconvert_exporter": "python",
   "pygments_lexer": "ipython3",
   "version": "3.11.0"
  }
 },
 "nbformat": 4,
 "nbformat_minor": 5
}
